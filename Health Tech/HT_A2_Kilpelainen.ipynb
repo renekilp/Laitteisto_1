{
 "cells": [
  {
   "attachments": {},
   "cell_type": "markdown",
   "id": "e98e83f8-540a-49aa-9857-0316e0efe119",
   "metadata": {},
   "source": [
    "# Assignment 2. Heart rate detection\n",
    "Hardware 1 - Orientation to Health Technology<br>\n",
    "Your name: **Your name comes here**<br>\n",
    "Date returned: **The date returned comes here**<br>\n",
    "Metropolia University of Applied Sciences<br>"
   ]
  },
  {
   "cell_type": "markdown",
   "id": "400c62a2-bcd8-41f3-bbc6-3ed60686d9ca",
   "metadata": {},
   "source": [
    "## 1. Setup"
   ]
  },
  {
   "cell_type": "code",
   "execution_count": null,
   "id": "982af0df-e135-4043-98ff-1b718410e774",
   "metadata": {},
   "outputs": [],
   "source": [
    "import numpy as np\n",
    "import matplotlib.pyplot as plt\n",
    "import heartpy as hp"
   ]
  },
  {
   "attachments": {},
   "cell_type": "markdown",
   "id": "cedf5b8e-e50f-4e5f-a9a2-cd128f741bce",
   "metadata": {},
   "source": [
    "## 2. All data\n",
    "Read in and plot all data."
   ]
  },
  {
   "cell_type": "code",
   "id": "1e93a1d7-21f3-4395-8fdc-80447ff24753",
   "metadata": {
    "jupyter": {
     "is_executing": true
    }
   },
   "source": [
    "# Reads the file into a numpy array\n",
    "data = hp.get_data('capture01_250Hz.txt')\n",
    "# Create a time vector\n",
    "Fs = 250 # Sampling rate (samples per second)\n",
    "time = np.arange(len(data))/Fs"
   ],
   "outputs": [],
   "execution_count": null
  },
  {
   "metadata": {
    "jupyter": {
     "is_executing": true
    }
   },
   "cell_type": "code",
   "source": [
    "# Plot the whole data in a graphical figure\n",
    "plt.figure(figsize = (12, 4))\n",
    "plt.plot(time, data)\n",
    "plt.grid()\n",
    "plt.xlabel('Time (s)')\n",
    "plt.ylabel('Amplitude (uint16)')\n",
    "plt.show()"
   ],
   "id": "9d71daefa2604558",
   "outputs": [],
   "execution_count": null
  },
  {
   "attachments": {},
   "cell_type": "markdown",
   "id": "bfef3528-5b11-45b2-9165-e36f58ced6bc",
   "metadata": {},
   "source": [
    "## 3. Selected segment\n",
    "Select a **60 seconds** segment from the data and make a graph of it."
   ]
  },
  {
   "cell_type": "code",
   "id": "c724cb83-2287-421a-95e2-f20813718783",
   "metadata": {
    "jupyter": {
     "is_executing": true
    }
   },
   "source": [
    "# Your c# Random seed based on the last four digits of the student ID number\n",
    "np.random.seed(1728)\n",
    "t0 = np.random.randint(30, 100)\n",
    "print(f'Segment starts from: {t0} s')\n",
    "\n",
    "# Select a segment\n",
    "i = (t0 < time) & (time < t0 + 60)\n",
    "data2 = data[i]\n",
    "time2 = time[i]\n",
    "\n",
    "# Plot the selected segment\n",
    "plt.figure(figsize = (12, 4))\n",
    "plt.plot(time2, data2)\n",
    "plt.grid()\n",
    "plt.xlabel('Time (s)')\n",
    "plt.ylabel('Amplitude (uint16)')\n",
    "plt.show()"
   ],
   "outputs": [],
   "execution_count": null
  },
  {
   "attachments": {},
   "cell_type": "markdown",
   "id": "b7dc909a-b6dc-4034-9c52-015682370e42",
   "metadata": {},
   "source": [
    "## 4. Peak detection and HRV measurements\n",
    "Detect the peaks from the selected segment of data, make a graph of the processed data segment to show the peaks, and finally display the measures computed."
   ]
  },
  {
   "cell_type": "code",
   "execution_count": null,
   "id": "98304f8a-31fc-4297-a8e2-bb58ac4c788b",
   "metadata": {},
   "outputs": [],
   "source": [
    "# Zoom in to the first 6 seconds to show the details of the signal\n",
    "\n",
    "# Plot the selected segment\n",
    "plt.figure(figsize = (12, 4))\n",
    "plt.plot(time2, data2)\n",
    "plt.grid()\n",
    "plt.xlabel('Time (s)')\n",
    "plt.ylabel('Amplitude (uint16)')\n",
    "plt.xlim(t0, t0 + 6)\n",
    "plt.show()\n"
   ]
  },
  {
   "cell_type": "code",
   "execution_count": null,
   "id": "6a3e0892-c7ca-4254-b28e-731f8e63a39f",
   "metadata": {},
   "outputs": [],
   "source": [
    "working_data, measures = hp.process(data2, sample_rate=Fs)\n",
    "plt.figure(figsize = (12, 4))\n",
    "\n",
    "hp.plotter(working_data, measures)"
   ]
  },
  {
   "metadata": {},
   "cell_type": "code",
   "outputs": [],
   "execution_count": null,
   "source": [
    "for measures in measures.keys():\n",
    "    print('%s: %f' % (measure, measures[measure]))"
   ],
   "id": "524c0da05d4c729e"
  },
  {
   "attachments": {},
   "cell_type": "markdown",
   "id": "21456ab8-31d7-4bc9-b812-63a9652956de",
   "metadata": {},
   "source": [
    "## 5. Interpretations\n",
    "Interpret the results."
   ]
  },
  {
   "attachments": {},
   "cell_type": "markdown",
   "id": "c0e7694c-ccad-4c45-a7d5-5fee675e297f",
   "metadata": {},
   "source": [
    "**(DOUBLE CLICK AND)** Write your interpretations of the results here ..."
   ]
  },
  {
   "cell_type": "code",
   "execution_count": null,
   "id": "74fc6678-df18-482a-a604-fe73b07d1531",
   "metadata": {},
   "outputs": [],
   "source": []
  }
 ],
 "metadata": {
  "kernelspec": {
   "display_name": "base",
   "language": "python",
   "name": "python3"
  },
  "language_info": {
   "codemirror_mode": {
    "name": "ipython",
    "version": 3
   },
   "file_extension": ".py",
   "mimetype": "text/x-python",
   "name": "python",
   "nbconvert_exporter": "python",
   "pygments_lexer": "ipython3",
   "version": "3.9.18"
  },
  "vscode": {
   "interpreter": {
    "hash": "4ab010436571c9b1f0b91718080c8b1983e9f6449abd83843ec7607c95fc3f4d"
   }
  }
 },
 "nbformat": 4,
 "nbformat_minor": 5
}
